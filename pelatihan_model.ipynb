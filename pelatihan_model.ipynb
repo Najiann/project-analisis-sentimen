{
  "nbformat": 4,
  "nbformat_minor": 0,
  "metadata": {
    "colab": {
      "provenance": []
    },
    "kernelspec": {
      "name": "python3",
      "display_name": "Python 3"
    },
    "language_info": {
      "name": "python"
    }
  },
  "cells": [
    {
      "cell_type": "markdown",
      "source": [
        "# Import Library"
      ],
      "metadata": {
        "id": "2H5J3ClWkhHJ"
      }
    },
    {
      "cell_type": "code",
      "execution_count": 1,
      "metadata": {
        "colab": {
          "base_uri": "https://localhost:8080/"
        },
        "id": "eSpqCj15kb2w",
        "outputId": "6d1c96ce-8933-46a8-c4a0-4b4ffa43fb90"
      },
      "outputs": [
        {
          "output_type": "stream",
          "name": "stdout",
          "text": [
            "Collecting sastrawi\n",
            "  Downloading Sastrawi-1.0.1-py2.py3-none-any.whl.metadata (909 bytes)\n",
            "Downloading Sastrawi-1.0.1-py2.py3-none-any.whl (209 kB)\n",
            "\u001b[2K   \u001b[90m━━━━━━━━━━━━━━━━━━━━━━━━━━━━━━━━━━━━━━━━\u001b[0m \u001b[32m209.7/209.7 kB\u001b[0m \u001b[31m2.8 MB/s\u001b[0m eta \u001b[36m0:00:00\u001b[0m\n",
            "\u001b[?25hInstalling collected packages: sastrawi\n",
            "Successfully installed sastrawi-1.0.1\n"
          ]
        },
        {
          "output_type": "stream",
          "name": "stderr",
          "text": [
            "[nltk_data] Downloading package punkt to /root/nltk_data...\n",
            "[nltk_data]   Unzipping tokenizers/punkt.zip.\n",
            "[nltk_data] Downloading package stopwords to /root/nltk_data...\n",
            "[nltk_data]   Unzipping corpora/stopwords.zip.\n"
          ]
        },
        {
          "output_type": "execute_result",
          "data": {
            "text/plain": [
              "True"
            ]
          },
          "metadata": {},
          "execution_count": 1
        }
      ],
      "source": [
        "import pandas as pd\n",
        "pd.options.mode.chained_assignment = None\n",
        "import numpy as np\n",
        "seed = 0\n",
        "np.random.seed(seed)\n",
        "import matplotlib.pyplot as plt\n",
        "import seaborn as sns\n",
        "from sklearn.metrics import accuracy_score\n",
        "\n",
        "import datetime as dt\n",
        "import re\n",
        "import string\n",
        "from nltk.tokenize import word_tokenize\n",
        "from nltk.corpus import stopwords\n",
        "\n",
        "!pip install sastrawi\n",
        "from Sastrawi.Stemmer.StemmerFactory import StemmerFactory\n",
        "from Sastrawi.StopWordRemover.StopWordRemoverFactory import StopWordRemoverFactory\n",
        "\n",
        "import nltk\n",
        "nltk.download('punkt')\n",
        "nltk.download('stopwords')"
      ]
    },
    {
      "cell_type": "markdown",
      "source": [
        "# Load Dataset"
      ],
      "metadata": {
        "id": "4xM-vuXiYx-h"
      }
    },
    {
      "cell_type": "code",
      "source": [
        "ripiu_clean_df = pd.read_csv('webtoon_ripiu.csv')\n",
        "\n",
        "print(f\"Jumlah data: {len(ripiu_clean_df)}\")\n",
        "ripiu_clean_df.head()"
      ],
      "metadata": {
        "colab": {
          "base_uri": "https://localhost:8080/",
          "height": 224
        },
        "id": "cagblBiwY0xd",
        "outputId": "33f5dff8-0a42-4568-9ee9-a57cc7a9c64d"
      },
      "execution_count": 3,
      "outputs": [
        {
          "output_type": "stream",
          "name": "stdout",
          "text": [
            "Jumlah data: 15000\n"
          ]
        },
        {
          "output_type": "execute_result",
          "data": {
            "text/plain": [
              "          userName                                            content  score  \\\n",
              "0  Pengguna Google  saya menggunakan aplikasi ini sudah lama. Vitu...      5   \n",
              "1  Pengguna Google  rate 2 karena makin banyak cerita smut yang ma...      2   \n",
              "2  Pengguna Google  Tampilan berandanya(home) aneh.. kayak ga bera...      4   \n",
              "3  Pengguna Google  Untuk aplikasinya memang bagus, dan banyak fit...      5   \n",
              "4  Pengguna Google  padahal tampilan awal 'home' udah bagus dan te...      3   \n",
              "\n",
              "                    at  \n",
              "0  2025-03-29 11:32:43  \n",
              "1  2025-04-10 07:42:24  \n",
              "2  2025-03-06 22:01:26  \n",
              "3  2025-03-05 08:00:52  \n",
              "4  2025-03-01 00:39:18  "
            ],
            "text/html": [
              "\n",
              "  <div id=\"df-5e61cc72-3c59-4629-bbff-568dc2756b1f\" class=\"colab-df-container\">\n",
              "    <div>\n",
              "<style scoped>\n",
              "    .dataframe tbody tr th:only-of-type {\n",
              "        vertical-align: middle;\n",
              "    }\n",
              "\n",
              "    .dataframe tbody tr th {\n",
              "        vertical-align: top;\n",
              "    }\n",
              "\n",
              "    .dataframe thead th {\n",
              "        text-align: right;\n",
              "    }\n",
              "</style>\n",
              "<table border=\"1\" class=\"dataframe\">\n",
              "  <thead>\n",
              "    <tr style=\"text-align: right;\">\n",
              "      <th></th>\n",
              "      <th>userName</th>\n",
              "      <th>content</th>\n",
              "      <th>score</th>\n",
              "      <th>at</th>\n",
              "    </tr>\n",
              "  </thead>\n",
              "  <tbody>\n",
              "    <tr>\n",
              "      <th>0</th>\n",
              "      <td>Pengguna Google</td>\n",
              "      <td>saya menggunakan aplikasi ini sudah lama. Vitu...</td>\n",
              "      <td>5</td>\n",
              "      <td>2025-03-29 11:32:43</td>\n",
              "    </tr>\n",
              "    <tr>\n",
              "      <th>1</th>\n",
              "      <td>Pengguna Google</td>\n",
              "      <td>rate 2 karena makin banyak cerita smut yang ma...</td>\n",
              "      <td>2</td>\n",
              "      <td>2025-04-10 07:42:24</td>\n",
              "    </tr>\n",
              "    <tr>\n",
              "      <th>2</th>\n",
              "      <td>Pengguna Google</td>\n",
              "      <td>Tampilan berandanya(home) aneh.. kayak ga bera...</td>\n",
              "      <td>4</td>\n",
              "      <td>2025-03-06 22:01:26</td>\n",
              "    </tr>\n",
              "    <tr>\n",
              "      <th>3</th>\n",
              "      <td>Pengguna Google</td>\n",
              "      <td>Untuk aplikasinya memang bagus, dan banyak fit...</td>\n",
              "      <td>5</td>\n",
              "      <td>2025-03-05 08:00:52</td>\n",
              "    </tr>\n",
              "    <tr>\n",
              "      <th>4</th>\n",
              "      <td>Pengguna Google</td>\n",
              "      <td>padahal tampilan awal 'home' udah bagus dan te...</td>\n",
              "      <td>3</td>\n",
              "      <td>2025-03-01 00:39:18</td>\n",
              "    </tr>\n",
              "  </tbody>\n",
              "</table>\n",
              "</div>\n",
              "    <div class=\"colab-df-buttons\">\n",
              "\n",
              "  <div class=\"colab-df-container\">\n",
              "    <button class=\"colab-df-convert\" onclick=\"convertToInteractive('df-5e61cc72-3c59-4629-bbff-568dc2756b1f')\"\n",
              "            title=\"Convert this dataframe to an interactive table.\"\n",
              "            style=\"display:none;\">\n",
              "\n",
              "  <svg xmlns=\"http://www.w3.org/2000/svg\" height=\"24px\" viewBox=\"0 -960 960 960\">\n",
              "    <path d=\"M120-120v-720h720v720H120Zm60-500h600v-160H180v160Zm220 220h160v-160H400v160Zm0 220h160v-160H400v160ZM180-400h160v-160H180v160Zm440 0h160v-160H620v160ZM180-180h160v-160H180v160Zm440 0h160v-160H620v160Z\"/>\n",
              "  </svg>\n",
              "    </button>\n",
              "\n",
              "  <style>\n",
              "    .colab-df-container {\n",
              "      display:flex;\n",
              "      gap: 12px;\n",
              "    }\n",
              "\n",
              "    .colab-df-convert {\n",
              "      background-color: #E8F0FE;\n",
              "      border: none;\n",
              "      border-radius: 50%;\n",
              "      cursor: pointer;\n",
              "      display: none;\n",
              "      fill: #1967D2;\n",
              "      height: 32px;\n",
              "      padding: 0 0 0 0;\n",
              "      width: 32px;\n",
              "    }\n",
              "\n",
              "    .colab-df-convert:hover {\n",
              "      background-color: #E2EBFA;\n",
              "      box-shadow: 0px 1px 2px rgba(60, 64, 67, 0.3), 0px 1px 3px 1px rgba(60, 64, 67, 0.15);\n",
              "      fill: #174EA6;\n",
              "    }\n",
              "\n",
              "    .colab-df-buttons div {\n",
              "      margin-bottom: 4px;\n",
              "    }\n",
              "\n",
              "    [theme=dark] .colab-df-convert {\n",
              "      background-color: #3B4455;\n",
              "      fill: #D2E3FC;\n",
              "    }\n",
              "\n",
              "    [theme=dark] .colab-df-convert:hover {\n",
              "      background-color: #434B5C;\n",
              "      box-shadow: 0px 1px 3px 1px rgba(0, 0, 0, 0.15);\n",
              "      filter: drop-shadow(0px 1px 2px rgba(0, 0, 0, 0.3));\n",
              "      fill: #FFFFFF;\n",
              "    }\n",
              "  </style>\n",
              "\n",
              "    <script>\n",
              "      const buttonEl =\n",
              "        document.querySelector('#df-5e61cc72-3c59-4629-bbff-568dc2756b1f button.colab-df-convert');\n",
              "      buttonEl.style.display =\n",
              "        google.colab.kernel.accessAllowed ? 'block' : 'none';\n",
              "\n",
              "      async function convertToInteractive(key) {\n",
              "        const element = document.querySelector('#df-5e61cc72-3c59-4629-bbff-568dc2756b1f');\n",
              "        const dataTable =\n",
              "          await google.colab.kernel.invokeFunction('convertToInteractive',\n",
              "                                                    [key], {});\n",
              "        if (!dataTable) return;\n",
              "\n",
              "        const docLinkHtml = 'Like what you see? Visit the ' +\n",
              "          '<a target=\"_blank\" href=https://colab.research.google.com/notebooks/data_table.ipynb>data table notebook</a>'\n",
              "          + ' to learn more about interactive tables.';\n",
              "        element.innerHTML = '';\n",
              "        dataTable['output_type'] = 'display_data';\n",
              "        await google.colab.output.renderOutput(dataTable, element);\n",
              "        const docLink = document.createElement('div');\n",
              "        docLink.innerHTML = docLinkHtml;\n",
              "        element.appendChild(docLink);\n",
              "      }\n",
              "    </script>\n",
              "  </div>\n",
              "\n",
              "\n",
              "<div id=\"df-ec2adfd2-5d28-4957-8561-69f43eb54d32\">\n",
              "  <button class=\"colab-df-quickchart\" onclick=\"quickchart('df-ec2adfd2-5d28-4957-8561-69f43eb54d32')\"\n",
              "            title=\"Suggest charts\"\n",
              "            style=\"display:none;\">\n",
              "\n",
              "<svg xmlns=\"http://www.w3.org/2000/svg\" height=\"24px\"viewBox=\"0 0 24 24\"\n",
              "     width=\"24px\">\n",
              "    <g>\n",
              "        <path d=\"M19 3H5c-1.1 0-2 .9-2 2v14c0 1.1.9 2 2 2h14c1.1 0 2-.9 2-2V5c0-1.1-.9-2-2-2zM9 17H7v-7h2v7zm4 0h-2V7h2v10zm4 0h-2v-4h2v4z\"/>\n",
              "    </g>\n",
              "</svg>\n",
              "  </button>\n",
              "\n",
              "<style>\n",
              "  .colab-df-quickchart {\n",
              "      --bg-color: #E8F0FE;\n",
              "      --fill-color: #1967D2;\n",
              "      --hover-bg-color: #E2EBFA;\n",
              "      --hover-fill-color: #174EA6;\n",
              "      --disabled-fill-color: #AAA;\n",
              "      --disabled-bg-color: #DDD;\n",
              "  }\n",
              "\n",
              "  [theme=dark] .colab-df-quickchart {\n",
              "      --bg-color: #3B4455;\n",
              "      --fill-color: #D2E3FC;\n",
              "      --hover-bg-color: #434B5C;\n",
              "      --hover-fill-color: #FFFFFF;\n",
              "      --disabled-bg-color: #3B4455;\n",
              "      --disabled-fill-color: #666;\n",
              "  }\n",
              "\n",
              "  .colab-df-quickchart {\n",
              "    background-color: var(--bg-color);\n",
              "    border: none;\n",
              "    border-radius: 50%;\n",
              "    cursor: pointer;\n",
              "    display: none;\n",
              "    fill: var(--fill-color);\n",
              "    height: 32px;\n",
              "    padding: 0;\n",
              "    width: 32px;\n",
              "  }\n",
              "\n",
              "  .colab-df-quickchart:hover {\n",
              "    background-color: var(--hover-bg-color);\n",
              "    box-shadow: 0 1px 2px rgba(60, 64, 67, 0.3), 0 1px 3px 1px rgba(60, 64, 67, 0.15);\n",
              "    fill: var(--button-hover-fill-color);\n",
              "  }\n",
              "\n",
              "  .colab-df-quickchart-complete:disabled,\n",
              "  .colab-df-quickchart-complete:disabled:hover {\n",
              "    background-color: var(--disabled-bg-color);\n",
              "    fill: var(--disabled-fill-color);\n",
              "    box-shadow: none;\n",
              "  }\n",
              "\n",
              "  .colab-df-spinner {\n",
              "    border: 2px solid var(--fill-color);\n",
              "    border-color: transparent;\n",
              "    border-bottom-color: var(--fill-color);\n",
              "    animation:\n",
              "      spin 1s steps(1) infinite;\n",
              "  }\n",
              "\n",
              "  @keyframes spin {\n",
              "    0% {\n",
              "      border-color: transparent;\n",
              "      border-bottom-color: var(--fill-color);\n",
              "      border-left-color: var(--fill-color);\n",
              "    }\n",
              "    20% {\n",
              "      border-color: transparent;\n",
              "      border-left-color: var(--fill-color);\n",
              "      border-top-color: var(--fill-color);\n",
              "    }\n",
              "    30% {\n",
              "      border-color: transparent;\n",
              "      border-left-color: var(--fill-color);\n",
              "      border-top-color: var(--fill-color);\n",
              "      border-right-color: var(--fill-color);\n",
              "    }\n",
              "    40% {\n",
              "      border-color: transparent;\n",
              "      border-right-color: var(--fill-color);\n",
              "      border-top-color: var(--fill-color);\n",
              "    }\n",
              "    60% {\n",
              "      border-color: transparent;\n",
              "      border-right-color: var(--fill-color);\n",
              "    }\n",
              "    80% {\n",
              "      border-color: transparent;\n",
              "      border-right-color: var(--fill-color);\n",
              "      border-bottom-color: var(--fill-color);\n",
              "    }\n",
              "    90% {\n",
              "      border-color: transparent;\n",
              "      border-bottom-color: var(--fill-color);\n",
              "    }\n",
              "  }\n",
              "</style>\n",
              "\n",
              "  <script>\n",
              "    async function quickchart(key) {\n",
              "      const quickchartButtonEl =\n",
              "        document.querySelector('#' + key + ' button');\n",
              "      quickchartButtonEl.disabled = true;  // To prevent multiple clicks.\n",
              "      quickchartButtonEl.classList.add('colab-df-spinner');\n",
              "      try {\n",
              "        const charts = await google.colab.kernel.invokeFunction(\n",
              "            'suggestCharts', [key], {});\n",
              "      } catch (error) {\n",
              "        console.error('Error during call to suggestCharts:', error);\n",
              "      }\n",
              "      quickchartButtonEl.classList.remove('colab-df-spinner');\n",
              "      quickchartButtonEl.classList.add('colab-df-quickchart-complete');\n",
              "    }\n",
              "    (() => {\n",
              "      let quickchartButtonEl =\n",
              "        document.querySelector('#df-ec2adfd2-5d28-4957-8561-69f43eb54d32 button');\n",
              "      quickchartButtonEl.style.display =\n",
              "        google.colab.kernel.accessAllowed ? 'block' : 'none';\n",
              "    })();\n",
              "  </script>\n",
              "</div>\n",
              "\n",
              "    </div>\n",
              "  </div>\n"
            ],
            "application/vnd.google.colaboratory.intrinsic+json": {
              "type": "dataframe",
              "variable_name": "ripiu_clean_df",
              "summary": "{\n  \"name\": \"ripiu_clean_df\",\n  \"rows\": 15000,\n  \"fields\": [\n    {\n      \"column\": \"userName\",\n      \"properties\": {\n        \"dtype\": \"category\",\n        \"num_unique_values\": 940,\n        \"samples\": [\n          \"Fio Rela\",\n          \"Dito Kusuma\",\n          \"Mazaya Mumtaz\"\n        ],\n        \"semantic_type\": \"\",\n        \"description\": \"\"\n      }\n    },\n    {\n      \"column\": \"content\",\n      \"properties\": {\n        \"dtype\": \"string\",\n        \"num_unique_values\": 14973,\n        \"samples\": [\n          \"Kumat tengah2 malam mau baca webtoon pakai hotspot dibilang gak ada jaringan terus. Webtoon kumat Padahal pakai hotspot dibilang tidak ada jaringan internet Jadi susah mau baca webtoon kan \\ud83e\\udddf\\u200d\\u2640\\ufe0f\\ud83e\\udddf\\u200d\\u2640\\ufe0f\",\n          \"sejak line webtoon terbit..aqu dah instal...trus pas ganti hp... harus pake ID baru \\ud83d\\ude2d padahal aku mau pakai ID yg lama... ini ganti HP pakai ID lama..eh kayak pelanggan baru \\ud83d\\ude02 daftar favorit ilang smua kayak anak baru ..yg baru download aplikasi bersih...\",\n          \"Masyaallah , inii sumpah dehh bagus begeteeee , gilakkk , sumpahhh Lo semua harus coba ni apk , seru bgt wanjaii slebeuuww , udh manaa gratis lagi , kapan lagi coba pake apk sebagus ini gratiss ?? , plis ini ada bintang 6 ga siii ?? ini apk terlalu bagus untuk saya , makasih loh udh ciptain apk ini , intinya Lo semua harus coba ni apk sekali seumur hidup \\ud83d\\ude4f\"\n        ],\n        \"semantic_type\": \"\",\n        \"description\": \"\"\n      }\n    },\n    {\n      \"column\": \"score\",\n      \"properties\": {\n        \"dtype\": \"number\",\n        \"std\": 1,\n        \"min\": 1,\n        \"max\": 5,\n        \"num_unique_values\": 5,\n        \"samples\": [\n          2,\n          1,\n          4\n        ],\n        \"semantic_type\": \"\",\n        \"description\": \"\"\n      }\n    },\n    {\n      \"column\": \"at\",\n      \"properties\": {\n        \"dtype\": \"object\",\n        \"num_unique_values\": 14998,\n        \"samples\": [\n          \"2022-01-12 22:54:29\",\n          \"2019-06-12 04:36:09\",\n          \"2021-07-13 12:50:28\"\n        ],\n        \"semantic_type\": \"\",\n        \"description\": \"\"\n      }\n    }\n  ]\n}"
            }
          },
          "metadata": {},
          "execution_count": 3
        }
      ]
    },
    {
      "cell_type": "markdown",
      "source": [
        "# Pre Processing"
      ],
      "metadata": {
        "id": "XHtMA4LvqFBt"
      }
    },
    {
      "cell_type": "markdown",
      "source": [
        "jadi fungsi hps_teks() dan brshn_teks() gunanya untuk membersihkan dan menormalkan teks ulasan para readers. seperti menghapus mention, hastag, link, angka, tanda baca, dan simbol lainnya. lalu brshn_teks itu gunanya untuk mengubah teks jadi kecil, dipisah kata katanya, dibuang kata kata umumnya, terus di ubah ke bentuk dasar."
      ],
      "metadata": {
        "id": "c9a3EkQUslKP"
      }
    },
    {
      "cell_type": "code",
      "source": [
        "def hps_teks(teks):\n",
        "    teks = re.sub(r'@[A-Za-z0-9]+', '', teks)\n",
        "    teks = re.sub(r'#[A-Za-z0-9]+', '', teks)\n",
        "    teks = re.sub(r'RT[\\s]', '', teks)\n",
        "    teks = re.sub(r\"http\\S+\", '', teks)\n",
        "    teks = re.sub(r'[0-9]+', '', teks)\n",
        "    teks = re.sub(r'[^\\w\\s]', '', teks)\n",
        "    teks = teks.replace('\\n', ' ')\n",
        "    teks = teks.translate(str.maketrans('', '', string.punctuation))\n",
        "    return teks.strip()\n",
        "\n",
        "def brshn_teks(teks):\n",
        "    teks = teks.lower()\n",
        "    teks = hps_teks(teks)\n",
        "    tokens = word_tokenize(teks)\n",
        "\n",
        "    stopword_ind = set(stopwords.words('indonesian'))\n",
        "    stopword_eng = set(stopwords.words('english'))\n",
        "    stopword_kustom = {'iyaa', 'gak', 'loh', 'ga', 'ya', 'kocak', 'oke'}\n",
        "    all_stopwords = stopword_ind.union(stopword_eng, stopword_kustom)\n",
        "\n",
        "    tokens_bersih = [t for t in tokens if t not in all_stopwords]\n",
        "\n",
        "    stemmer = StemmerFactory().create_stemmer()\n",
        "    tokens_stemmed = [stemmer.stem(kata) for kata in tokens_bersih]\n",
        "\n",
        "    return ' '.join(tokens_stemmed)\n"
      ],
      "metadata": {
        "id": "ja3Za-dGqHiY"
      },
      "execution_count": 4,
      "outputs": []
    },
    {
      "cell_type": "code",
      "source": [
        "slangwords = {\n",
        "    \"yg\": \"yang\", \"oke\": \"baik\", \"hnya\": \"hanya\", \"krna\": \"karena\", \"tpi\": \"tapi\", \"tp\": \"tapi\", \"trus\": \"terus\", \"trs\": \"terus\", \"nggak\": \"tidak\", \"ga\": \"tidak\", \"gak\": \"nggak\",\n",
        "    \"gk\": \"nggak\", \"ngga\": \"nggak\", \"tdk\": \"tidak\", \"eps\": \"episode\", \"yaa\": \"ya\", \"yahh\": \"ya\", \"yaaa\": \"ya\", \"iyaah\": \"ya\", \"t_t\": \"sedih\", \"mmng\": \"memang\",\"emg\": \"memang\",\n",
        "    \"sangattt\": \"sangat\", \"iniii\": \"ini\", \"kadang2\": \"kadang-kadang\",\"kdng\": \"kadang\", \"jangan2\": \"jangan-jangan\", \"lahh\": \"lah\", \"loo\": \"kamu\", \"lu\": \"kamu\", \"elo\": \"kamu\",\n",
        "    \"lo\": \"kamu\", \"dehh\": \"deh\", \"gituuu\": \"gitu\", \"bngtt\": \"banget\", \"bgt\": \"banget\", \"bgtt\": \"banget\", \"bgttt\": \"banget\", \"bgtbanget\": \"banget\", \"bgtu\": \"banget itu\",\n",
        "    \"anjir\": \"astaga\", \"anj\": \"anjing\", \"anjg\": \"anjing\", \"ajg\": \"anjing\", \"plis\": \"tolong\", \"pliss\": \"tolong\", \"plsss\": \"tolong\", \"plisss\": \"tolong\", \"btw\": \"ngomong-ngomong\",\n",
        "    \"cuy\": \"teman\", \"gw\": \"aku\", \"gua\": \"aku\", \"gue\": \"aku\", \"dmn\": \"di mana\", \"dmana\": \"di mana\", \"dr\": \"dari\", \"sm\": \"sama\", \"sama2\": \"sama-sama\", \"aja\": \"saja\", \"ajah\": \"saja\",\n",
        "    \"udh\": \"sudah\", \"dah\": \"sudah\", \"dlu\": \"dulu\", \"pdhl\": \"padahal\", \"masi\": \"masih\", \"msh\": \"masih\", \"knp\": \"kenapa\", \"gmn\": \"gimana\", \"gimn\": \"gimana\", \"dlm\": \"dalam\", \"cm\": \"cuma\",\n",
        "    \"cma\": \"cuma\", \"bs\": \"bisa\", \"tetep\": \"tetap\", \"app\": \"aplikasi\",\"apps\": \"aplikasi\", \"lemot\": \"lama\", \"smpe\": \"sampai\", \"sblm\": \"sebelum\", \"ngunduh\": \"download\",\n",
        "    \"ngulang\": \"mengulang\", \"ttg\": \"tentang\", \"kayak\": \"seperti\", \"kyk\": \"seperti\", \"kalo\": \"kalau\", \"klo\": \"kalau\", \"jg\": \"juga\", \"si\": \"sih\", \"sihh\": \"sih\", \"tuh\": \"itu\",\n",
        "    \"dong\": \"ya\", \"ntr\": \"nanti\", \"skrg\": \"sekarang\", \"sekrg\": \"sekarang\", \"napa\": \"kenapa\", \"ngapa\": \"kenapa\", \"ngapain\": \"apa\", \"wkwk\": \"tertawa\", \"wkwkwk\": \"tertawa\",\n",
        "    \"wkwwk\": \"tertawa\", \"wle\": \"bercanda\", \"up\": \"update\", \"pgn\": \"ingin\", \"pengen\": \"ingin\", \"ngertii\": \"mengerti\", \"ngerti\": \"mengerti\", \"moga\": \"semoga\", \"brarti\": \"berarti\",\n",
        "    \"bkn\": \"bukan\",\"brg\": \"barang\"\n",
        "}\n",
        "\n",
        "\n",
        "def normalize_slang(text):\n",
        "    text = str(text).lower()\n",
        "    for slang, formal in slangwords.items():\n",
        "        text = re.sub(r'\\b' + re.escape(slang) + r'\\b', formal, text)\n",
        "    return text\n",
        "\n",
        "ripiu_clean_df['normalized_content'] = ripiu_clean_df['content'].apply(normalize_slang)\n",
        "\n",
        "ripiu_clean_df[['content', 'normalized_content']].head()\n"
      ],
      "metadata": {
        "colab": {
          "base_uri": "https://localhost:8080/",
          "height": 206
        },
        "id": "Aiq3Oh9Rz2wt",
        "outputId": "422180ae-9ae2-4f99-8d6a-c2cccb69aa9f"
      },
      "execution_count": 5,
      "outputs": [
        {
          "output_type": "execute_result",
          "data": {
            "text/plain": [
              "                                             content  \\\n",
              "0  saya menggunakan aplikasi ini sudah lama. Vitu...   \n",
              "1  rate 2 karena makin banyak cerita smut yang ma...   \n",
              "2  Tampilan berandanya(home) aneh.. kayak ga bera...   \n",
              "3  Untuk aplikasinya memang bagus, dan banyak fit...   \n",
              "4  padahal tampilan awal 'home' udah bagus dan te...   \n",
              "\n",
              "                                  normalized_content  \n",
              "0  saya menggunakan aplikasi ini sudah lama. vitu...  \n",
              "1  rate 2 karena makin banyak cerita smut yang ma...  \n",
              "2  tampilan berandanya(home) aneh.. seperti tidak...  \n",
              "3  untuk aplikasinya memang bagus, dan banyak fit...  \n",
              "4  padahal tampilan awal 'home' udah bagus dan te...  "
            ],
            "text/html": [
              "\n",
              "  <div id=\"df-95a79376-cc82-4f73-830e-a1060e2a24de\" class=\"colab-df-container\">\n",
              "    <div>\n",
              "<style scoped>\n",
              "    .dataframe tbody tr th:only-of-type {\n",
              "        vertical-align: middle;\n",
              "    }\n",
              "\n",
              "    .dataframe tbody tr th {\n",
              "        vertical-align: top;\n",
              "    }\n",
              "\n",
              "    .dataframe thead th {\n",
              "        text-align: right;\n",
              "    }\n",
              "</style>\n",
              "<table border=\"1\" class=\"dataframe\">\n",
              "  <thead>\n",
              "    <tr style=\"text-align: right;\">\n",
              "      <th></th>\n",
              "      <th>content</th>\n",
              "      <th>normalized_content</th>\n",
              "    </tr>\n",
              "  </thead>\n",
              "  <tbody>\n",
              "    <tr>\n",
              "      <th>0</th>\n",
              "      <td>saya menggunakan aplikasi ini sudah lama. Vitu...</td>\n",
              "      <td>saya menggunakan aplikasi ini sudah lama. vitu...</td>\n",
              "    </tr>\n",
              "    <tr>\n",
              "      <th>1</th>\n",
              "      <td>rate 2 karena makin banyak cerita smut yang ma...</td>\n",
              "      <td>rate 2 karena makin banyak cerita smut yang ma...</td>\n",
              "    </tr>\n",
              "    <tr>\n",
              "      <th>2</th>\n",
              "      <td>Tampilan berandanya(home) aneh.. kayak ga bera...</td>\n",
              "      <td>tampilan berandanya(home) aneh.. seperti tidak...</td>\n",
              "    </tr>\n",
              "    <tr>\n",
              "      <th>3</th>\n",
              "      <td>Untuk aplikasinya memang bagus, dan banyak fit...</td>\n",
              "      <td>untuk aplikasinya memang bagus, dan banyak fit...</td>\n",
              "    </tr>\n",
              "    <tr>\n",
              "      <th>4</th>\n",
              "      <td>padahal tampilan awal 'home' udah bagus dan te...</td>\n",
              "      <td>padahal tampilan awal 'home' udah bagus dan te...</td>\n",
              "    </tr>\n",
              "  </tbody>\n",
              "</table>\n",
              "</div>\n",
              "    <div class=\"colab-df-buttons\">\n",
              "\n",
              "  <div class=\"colab-df-container\">\n",
              "    <button class=\"colab-df-convert\" onclick=\"convertToInteractive('df-95a79376-cc82-4f73-830e-a1060e2a24de')\"\n",
              "            title=\"Convert this dataframe to an interactive table.\"\n",
              "            style=\"display:none;\">\n",
              "\n",
              "  <svg xmlns=\"http://www.w3.org/2000/svg\" height=\"24px\" viewBox=\"0 -960 960 960\">\n",
              "    <path d=\"M120-120v-720h720v720H120Zm60-500h600v-160H180v160Zm220 220h160v-160H400v160Zm0 220h160v-160H400v160ZM180-400h160v-160H180v160Zm440 0h160v-160H620v160ZM180-180h160v-160H180v160Zm440 0h160v-160H620v160Z\"/>\n",
              "  </svg>\n",
              "    </button>\n",
              "\n",
              "  <style>\n",
              "    .colab-df-container {\n",
              "      display:flex;\n",
              "      gap: 12px;\n",
              "    }\n",
              "\n",
              "    .colab-df-convert {\n",
              "      background-color: #E8F0FE;\n",
              "      border: none;\n",
              "      border-radius: 50%;\n",
              "      cursor: pointer;\n",
              "      display: none;\n",
              "      fill: #1967D2;\n",
              "      height: 32px;\n",
              "      padding: 0 0 0 0;\n",
              "      width: 32px;\n",
              "    }\n",
              "\n",
              "    .colab-df-convert:hover {\n",
              "      background-color: #E2EBFA;\n",
              "      box-shadow: 0px 1px 2px rgba(60, 64, 67, 0.3), 0px 1px 3px 1px rgba(60, 64, 67, 0.15);\n",
              "      fill: #174EA6;\n",
              "    }\n",
              "\n",
              "    .colab-df-buttons div {\n",
              "      margin-bottom: 4px;\n",
              "    }\n",
              "\n",
              "    [theme=dark] .colab-df-convert {\n",
              "      background-color: #3B4455;\n",
              "      fill: #D2E3FC;\n",
              "    }\n",
              "\n",
              "    [theme=dark] .colab-df-convert:hover {\n",
              "      background-color: #434B5C;\n",
              "      box-shadow: 0px 1px 3px 1px rgba(0, 0, 0, 0.15);\n",
              "      filter: drop-shadow(0px 1px 2px rgba(0, 0, 0, 0.3));\n",
              "      fill: #FFFFFF;\n",
              "    }\n",
              "  </style>\n",
              "\n",
              "    <script>\n",
              "      const buttonEl =\n",
              "        document.querySelector('#df-95a79376-cc82-4f73-830e-a1060e2a24de button.colab-df-convert');\n",
              "      buttonEl.style.display =\n",
              "        google.colab.kernel.accessAllowed ? 'block' : 'none';\n",
              "\n",
              "      async function convertToInteractive(key) {\n",
              "        const element = document.querySelector('#df-95a79376-cc82-4f73-830e-a1060e2a24de');\n",
              "        const dataTable =\n",
              "          await google.colab.kernel.invokeFunction('convertToInteractive',\n",
              "                                                    [key], {});\n",
              "        if (!dataTable) return;\n",
              "\n",
              "        const docLinkHtml = 'Like what you see? Visit the ' +\n",
              "          '<a target=\"_blank\" href=https://colab.research.google.com/notebooks/data_table.ipynb>data table notebook</a>'\n",
              "          + ' to learn more about interactive tables.';\n",
              "        element.innerHTML = '';\n",
              "        dataTable['output_type'] = 'display_data';\n",
              "        await google.colab.output.renderOutput(dataTable, element);\n",
              "        const docLink = document.createElement('div');\n",
              "        docLink.innerHTML = docLinkHtml;\n",
              "        element.appendChild(docLink);\n",
              "      }\n",
              "    </script>\n",
              "  </div>\n",
              "\n",
              "\n",
              "<div id=\"df-e1d2e662-aa0c-4c36-ae44-8a4f045203f5\">\n",
              "  <button class=\"colab-df-quickchart\" onclick=\"quickchart('df-e1d2e662-aa0c-4c36-ae44-8a4f045203f5')\"\n",
              "            title=\"Suggest charts\"\n",
              "            style=\"display:none;\">\n",
              "\n",
              "<svg xmlns=\"http://www.w3.org/2000/svg\" height=\"24px\"viewBox=\"0 0 24 24\"\n",
              "     width=\"24px\">\n",
              "    <g>\n",
              "        <path d=\"M19 3H5c-1.1 0-2 .9-2 2v14c0 1.1.9 2 2 2h14c1.1 0 2-.9 2-2V5c0-1.1-.9-2-2-2zM9 17H7v-7h2v7zm4 0h-2V7h2v10zm4 0h-2v-4h2v4z\"/>\n",
              "    </g>\n",
              "</svg>\n",
              "  </button>\n",
              "\n",
              "<style>\n",
              "  .colab-df-quickchart {\n",
              "      --bg-color: #E8F0FE;\n",
              "      --fill-color: #1967D2;\n",
              "      --hover-bg-color: #E2EBFA;\n",
              "      --hover-fill-color: #174EA6;\n",
              "      --disabled-fill-color: #AAA;\n",
              "      --disabled-bg-color: #DDD;\n",
              "  }\n",
              "\n",
              "  [theme=dark] .colab-df-quickchart {\n",
              "      --bg-color: #3B4455;\n",
              "      --fill-color: #D2E3FC;\n",
              "      --hover-bg-color: #434B5C;\n",
              "      --hover-fill-color: #FFFFFF;\n",
              "      --disabled-bg-color: #3B4455;\n",
              "      --disabled-fill-color: #666;\n",
              "  }\n",
              "\n",
              "  .colab-df-quickchart {\n",
              "    background-color: var(--bg-color);\n",
              "    border: none;\n",
              "    border-radius: 50%;\n",
              "    cursor: pointer;\n",
              "    display: none;\n",
              "    fill: var(--fill-color);\n",
              "    height: 32px;\n",
              "    padding: 0;\n",
              "    width: 32px;\n",
              "  }\n",
              "\n",
              "  .colab-df-quickchart:hover {\n",
              "    background-color: var(--hover-bg-color);\n",
              "    box-shadow: 0 1px 2px rgba(60, 64, 67, 0.3), 0 1px 3px 1px rgba(60, 64, 67, 0.15);\n",
              "    fill: var(--button-hover-fill-color);\n",
              "  }\n",
              "\n",
              "  .colab-df-quickchart-complete:disabled,\n",
              "  .colab-df-quickchart-complete:disabled:hover {\n",
              "    background-color: var(--disabled-bg-color);\n",
              "    fill: var(--disabled-fill-color);\n",
              "    box-shadow: none;\n",
              "  }\n",
              "\n",
              "  .colab-df-spinner {\n",
              "    border: 2px solid var(--fill-color);\n",
              "    border-color: transparent;\n",
              "    border-bottom-color: var(--fill-color);\n",
              "    animation:\n",
              "      spin 1s steps(1) infinite;\n",
              "  }\n",
              "\n",
              "  @keyframes spin {\n",
              "    0% {\n",
              "      border-color: transparent;\n",
              "      border-bottom-color: var(--fill-color);\n",
              "      border-left-color: var(--fill-color);\n",
              "    }\n",
              "    20% {\n",
              "      border-color: transparent;\n",
              "      border-left-color: var(--fill-color);\n",
              "      border-top-color: var(--fill-color);\n",
              "    }\n",
              "    30% {\n",
              "      border-color: transparent;\n",
              "      border-left-color: var(--fill-color);\n",
              "      border-top-color: var(--fill-color);\n",
              "      border-right-color: var(--fill-color);\n",
              "    }\n",
              "    40% {\n",
              "      border-color: transparent;\n",
              "      border-right-color: var(--fill-color);\n",
              "      border-top-color: var(--fill-color);\n",
              "    }\n",
              "    60% {\n",
              "      border-color: transparent;\n",
              "      border-right-color: var(--fill-color);\n",
              "    }\n",
              "    80% {\n",
              "      border-color: transparent;\n",
              "      border-right-color: var(--fill-color);\n",
              "      border-bottom-color: var(--fill-color);\n",
              "    }\n",
              "    90% {\n",
              "      border-color: transparent;\n",
              "      border-bottom-color: var(--fill-color);\n",
              "    }\n",
              "  }\n",
              "</style>\n",
              "\n",
              "  <script>\n",
              "    async function quickchart(key) {\n",
              "      const quickchartButtonEl =\n",
              "        document.querySelector('#' + key + ' button');\n",
              "      quickchartButtonEl.disabled = true;  // To prevent multiple clicks.\n",
              "      quickchartButtonEl.classList.add('colab-df-spinner');\n",
              "      try {\n",
              "        const charts = await google.colab.kernel.invokeFunction(\n",
              "            'suggestCharts', [key], {});\n",
              "      } catch (error) {\n",
              "        console.error('Error during call to suggestCharts:', error);\n",
              "      }\n",
              "      quickchartButtonEl.classList.remove('colab-df-spinner');\n",
              "      quickchartButtonEl.classList.add('colab-df-quickchart-complete');\n",
              "    }\n",
              "    (() => {\n",
              "      let quickchartButtonEl =\n",
              "        document.querySelector('#df-e1d2e662-aa0c-4c36-ae44-8a4f045203f5 button');\n",
              "      quickchartButtonEl.style.display =\n",
              "        google.colab.kernel.accessAllowed ? 'block' : 'none';\n",
              "    })();\n",
              "  </script>\n",
              "</div>\n",
              "\n",
              "    </div>\n",
              "  </div>\n"
            ],
            "application/vnd.google.colaboratory.intrinsic+json": {
              "type": "dataframe",
              "summary": "{\n  \"name\": \"ripiu_clean_df[['content', 'normalized_content']]\",\n  \"rows\": 5,\n  \"fields\": [\n    {\n      \"column\": \"content\",\n      \"properties\": {\n        \"dtype\": \"string\",\n        \"num_unique_values\": 5,\n        \"samples\": [\n          \"rate 2 karena makin banyak cerita smut yang masuk. Cuma pencet udah 18+ tanpa verifikasi ktp kayak naver itu teledor banget. Banyak banget anak-anak dibawah umur yang baca di webtoon tapi malah genre 21+ juga dimasukin hadeh. Kadang juga ada terjemahan yang nggak konsisten, bahasa kaku, nama-nama karakter berubah. ada beberapa webtoon yang terjemahananya nggak jelas, lebih jelek dari terjemahan website ilegal. Cuma mau webtoon tolong dibenerin bagian itu\",\n          \"padahal tampilan awal 'home' udah bagus dan terbiasa, eh malah diubah.. sekarang tampilan 'home' jadi jelek dan ga nyaman. aku suka banget baca webtoon, apalagi pas ada webtoon baru terus ditampilin di bagian 'home' yang bisa dislide-slide itu. jadinya koleksi bacaan makin banyaak~ tapi pas tampilan 'home' diubah jadi susah mau nyari cerita yang bagus karna harus dibuka satu-satu. belum lagi ga semua cover + judul cerita di webtoon itu menarik, jadi kalau ga keliatan menarik ya ga bakal kebaca\",\n          \"Tampilan berandanya(home) aneh.. kayak ga berasa kayak tampilan beranda. Udah bener yang lama udah bagus,ada nampilin event di awal, bisa dislide ke kanan-kiri... buat saya itu hiburan kecil sih, karna jenuh scroll kebawah terus, juga buat saya tau event-event yang lagi ada yang sekarang lewat slide diawal itu.. sekarang aneh banget.. berasa kayak buka list komik, bukan beranda.\"\n        ],\n        \"semantic_type\": \"\",\n        \"description\": \"\"\n      }\n    },\n    {\n      \"column\": \"normalized_content\",\n      \"properties\": {\n        \"dtype\": \"string\",\n        \"num_unique_values\": 5,\n        \"samples\": [\n          \"rate 2 karena makin banyak cerita smut yang masuk. cuma pencet udah 18+ tanpa verifikasi ktp seperti naver itu teledor banget. banyak banget anak-anak dibawah umur yang baca di webtoon tapi malah genre 21+ juga dimasukin hadeh. kadang juga ada terjemahan yang tidak konsisten, bahasa kaku, nama-nama karakter berubah. ada beberapa webtoon yang terjemahananya tidak jelas, lebih jelek dari terjemahan website ilegal. cuma mau webtoon tolong dibenerin bagian itu\",\n          \"padahal tampilan awal 'home' udah bagus dan terbiasa, eh malah diubah.. sekarang tampilan 'home' jadi jelek dan tidak nyaman. aku suka banget baca webtoon, apalagi pas ada webtoon baru terus ditampilin di bagian 'home' yang bisa dislide-slide itu. jadinya koleksi bacaan makin banyaak~ tapi pas tampilan 'home' diubah jadi susah mau nyari cerita yang bagus karna harus dibuka satu-satu. belum lagi tidak semua cover + judul cerita di webtoon itu menarik, jadi kalau tidak keliatan menarik ya tidak bakal kebaca\",\n          \"tampilan berandanya(home) aneh.. seperti tidak berasa seperti tampilan beranda. udah bener yang lama udah bagus,ada nampilin event di awal, bisa dislide ke kanan-kiri... buat saya itu hiburan kecil sih, karna jenuh scroll kebawah terus, juga buat saya tau event-event yang lagi ada yang sekarang lewat slide diawal itu.. sekarang aneh banget.. berasa seperti buka list komik, bukan beranda.\"\n        ],\n        \"semantic_type\": \"\",\n        \"description\": \"\"\n      }\n    }\n  ]\n}"
            }
          },
          "metadata": {},
          "execution_count": 5
        }
      ]
    },
    {
      "cell_type": "markdown",
      "source": [
        "# Labelling"
      ],
      "metadata": {
        "id": "kVMP6B8R3JYI"
      }
    },
    {
      "cell_type": "markdown",
      "source": [
        "bagian labelling ini aku labelling otomatis, disini aku menggunakan kata kata yang relevan dan banyak di tulis di dalam ulasan oleh para readers. aku baca satu satu komen mereka lalu aku tarik kesimpulan apakah ini masuk ke positif, netral atau negatif. masih ada beberapa yang tidak terdeteksi."
      ],
      "metadata": {
        "id": "FzXWlUgLO1Lk"
      }
    },
    {
      "cell_type": "code",
      "source": [
        "positif_keywords = [\n",
        "    \"bagus\", \"mantap\", \"suka\", \"cepat\", \"enak\", \"keren\", \"hebat\",\n",
        "    \"nyaman\", \"baik\", \"lancar\", \"recommended\", \"top\", \"senang\", \"kerenn\",\n",
        "    \"cocok\", \"seru\", \"gemes\", \"bagus banget\", \"menghibur\", \"love\", \"asik\",\n",
        "    \"menarik\", \"top banget\", \"favorit\", \"worth\", \"bagusss\", \"sukaaa\",\n",
        "    \"lucu\", \"ngakak\", \"greget\", \"ga nyesel\", \"baguss\", \"seruu\", \"rekomendasi\",\n",
        "    \"super\", \"terbaik\", \"bagus deh\", \"kocak\", \"nangis bahagia\", \"pinter\",\n",
        "    \"bagus parah\", \"cerita keren\", \"alur bagus\", \"visual bagus\", \"epik\",\n",
        "    \"plot twist\", \"lucu banget\", \"kereennn\", \"satisfying\", \"happy\", \"amazing\",\n",
        "    \"puas\", \"full bintang\", \"100/10\", \"makasih\", \"terima kasih\", \"top markotop\",\n",
        "    \"kerenn abiezzz\", \"ceritanya bagus\",\"wajib download\", \"bagus bgt\", \"no iklan\",\n",
        "    \"mantap jiwa\", \"kece\", \"worth it\", \"sangat bagus\", \"terharu\", \"komplit\", \"solid\", \"favoritku\",\n",
        "    \"paling best!\", \"bermanfaat\", \"dihati\", \"bgsss\", \"lengkap\", \"inspirasi\", \"senang\", \"tidak ada keluhan\",\n",
        "    \"jatuh hati\", \"memuaskan\", \"menghibur\", \"sempurna\", \"suami ku bertambah\", \"gantengnya pacar ku\", \"pacar gepeng ku\"\n",
        "\n",
        "]\n",
        "\n",
        "negatif_keywords = [\n",
        "    \"jelek\", \"buruk\", \"lama\", \"parah\", \"gak suka\", \"tidak suka\",\n",
        "    \"mengecewakan\", \"benci\", \"lelet\", \"jelek banget\", \"nggak banget\", \"payah\",\n",
        "    \"error\", \"force close\", \"crash\", \"ngelag\", \"lemot\", \"bosen\", \"klise\",\n",
        "    \"maksa\", \"berat\", \"koin mahal\", \"mahal banget\", \"kebanyakan iklan\",\n",
        "    \"iklan mulu\", \"bikin kesel\", \"bikin nangis\", \"gaje\", \"ga jelas\",\n",
        "    \"nggak nyambung\", \"ngerasa rugi\", \"ga sesuai\", \"kurang greget\",\n",
        "    \"tidak logis\", \"dipaksain\", \"ending jelek\", \"ending menggantung\",\n",
        "    \"basi\", \"norak\", \"repetitif\", \"kurang bagus\", \"lambat\",\n",
        "    \"beli mahal\", \"kecewa\", \"tidak puas\", \"bayar tapi\", \"udah bayar\",\n",
        "    \"ga worth\", \"ga puas\", \"nggak lucu\", \"nggak seru\", \"sangat kecewa\",\n",
        "    \"alurnya ketebak\", \"koin terus\", \"terlalu banyak iklan\", \"susah login\",\n",
        "    \"bikin kesel\", \"boros kuota\", \"sering keluar sendiri\", \"nggak work\", \"gagal terus\",\n",
        "    \"iklan berlebihan\", \"minus\", \"vip\", \"iklan\", \"kenapa\", \"koin\", \"gilaa bgs\", \"jernih\",\n",
        "    \"menyenangkan\", \"bodoh\", \"kesal\", \"gak masuk\", \"sedih\", \"ilang\", \"iklan\", \"gabisa\", \"dah lah\",\n",
        "    \"uninstall\", \"unsur vulgar\", \"kurang lengkap\", \"gk pernah bisa\", \"kesalahan\", \"stuck\", \"ribet\", \"ilangin\",\n",
        "    \"sering eror\", \"tidak terlalu lengkap\", \"ga ada\", \"kenapa sihh\", \"hapus\", \"ngecewain\", \"gagal\", \"kumat\", \"jenuh\",\n",
        "    \"keluar sendiri\", \"sulit\", \"loading\", \"males\", \"aneh\", \"hadehh\", \"gak bisa\", \"keluar\", \"ngebug\", \"sampah\", \"koin mahal\",\n",
        "    \"sering keluar sendiri\", \"iklan berlebihan\", \"meresahkan\", \"cape\", \"iklan alay\", \"pusing kepala\", \"bohong\", \"lelot\", \"ilang\",\n",
        "\n",
        "]\n",
        "\n",
        "netral_keywords = [\n",
        "    \"biasa\", \"oke\", \"lumayan\", \"yaudah\", \"gitu aja\", \"standar\",\n",
        "    \"so so\", \"cukup\", \"netral\", \"menengah\", \"gak jelek\", \"gak bagus\",\n",
        "    \"seadanya\", \"gpp\", \"gimana ya\", \"not bad\", \"boleh lah\", \"slow\",\n",
        "    \"cukupan\", \"ok\", \"ya\", \"nggak tau\", \"skip\", \"ya sih\",\n",
        "    \"tergantung\", \"di tengah\", \"antara\", \"campur\", \"komentar netral\",\n",
        "    \"gitu doang\", \"flat\", \"datar\", \"ga ngaruh\", \"nggak penting\",\n",
        "    \"begitu doang\", \"cerita biasa\", \"oke lah\", \"lumayan bagus\", \"lumayan jelek\",\n",
        "    \"so far so good\", \"boleh dicoba\", \"ya lumayan\", \"seadanya aja\", \"oke tapi\",\n",
        "    \"kurang lebih\", \"antara suka dan enggak\", \"50:50\", \"baru\", \"nyoba\", \"gabut\", \"lengkap\",\n",
        "    \"saran\", \"cuma\", \"baca\", \"gaada kritik\", \"fitur ss\", \"halu\",\n",
        "\n",
        "]\n"
      ],
      "metadata": {
        "id": "yNp3C5g-0P-Y"
      },
      "execution_count": 6,
      "outputs": []
    },
    {
      "cell_type": "code",
      "source": [
        "def keyword_label(text):\n",
        "    text = text.lower()\n",
        "    for kata in positif_keywords:\n",
        "        if kata in text:\n",
        "            return 'positif'\n",
        "    for kata in negatif_keywords:\n",
        "        if kata in text:\n",
        "            return 'negatif'\n",
        "    for kata in netral_keywords:\n",
        "        if kata in text:\n",
        "            return 'netral'\n",
        "    return 'tidak diketahui'\n"
      ],
      "metadata": {
        "id": "bCDmcX-AX_ib"
      },
      "execution_count": 8,
      "outputs": []
    },
    {
      "cell_type": "code",
      "source": [
        "ripiu_clean_df['label'] = ripiu_clean_df['normalized_content'].apply(keyword_label)\n",
        "ripiu_clean_df['label'].value_counts()\n"
      ],
      "metadata": {
        "colab": {
          "base_uri": "https://localhost:8080/",
          "height": 240
        },
        "id": "dqYKMjW9YE80",
        "outputId": "c55d8a40-8c0f-4286-b8c5-0a0d70df2034"
      },
      "execution_count": 17,
      "outputs": [
        {
          "output_type": "execute_result",
          "data": {
            "text/plain": [
              "label\n",
              "positif            12293\n",
              "negatif             1966\n",
              "netral               685\n",
              "tidak diketahui       56\n",
              "Name: count, dtype: int64"
            ],
            "text/html": [
              "<div>\n",
              "<style scoped>\n",
              "    .dataframe tbody tr th:only-of-type {\n",
              "        vertical-align: middle;\n",
              "    }\n",
              "\n",
              "    .dataframe tbody tr th {\n",
              "        vertical-align: top;\n",
              "    }\n",
              "\n",
              "    .dataframe thead th {\n",
              "        text-align: right;\n",
              "    }\n",
              "</style>\n",
              "<table border=\"1\" class=\"dataframe\">\n",
              "  <thead>\n",
              "    <tr style=\"text-align: right;\">\n",
              "      <th></th>\n",
              "      <th>count</th>\n",
              "    </tr>\n",
              "    <tr>\n",
              "      <th>label</th>\n",
              "      <th></th>\n",
              "    </tr>\n",
              "  </thead>\n",
              "  <tbody>\n",
              "    <tr>\n",
              "      <th>positif</th>\n",
              "      <td>12293</td>\n",
              "    </tr>\n",
              "    <tr>\n",
              "      <th>negatif</th>\n",
              "      <td>1966</td>\n",
              "    </tr>\n",
              "    <tr>\n",
              "      <th>netral</th>\n",
              "      <td>685</td>\n",
              "    </tr>\n",
              "    <tr>\n",
              "      <th>tidak diketahui</th>\n",
              "      <td>56</td>\n",
              "    </tr>\n",
              "  </tbody>\n",
              "</table>\n",
              "</div><br><label><b>dtype:</b> int64</label>"
            ]
          },
          "metadata": {},
          "execution_count": 17
        }
      ]
    },
    {
      "cell_type": "markdown",
      "source": [
        "# Data Split"
      ],
      "metadata": {
        "id": "kLjHJ_hvHxZS"
      }
    },
    {
      "cell_type": "markdown",
      "source": [
        "bagian ini bagian aku mengubah teks menjadi matrix angka dan membagi data test dan training"
      ],
      "metadata": {
        "id": "trzSVer5P16b"
      }
    },
    {
      "cell_type": "code",
      "source": [
        "from sklearn.feature_extraction.text import TfidfVectorizer\n",
        "from sklearn.model_selection import train_test_split\n",
        "\n",
        "X = ripiu_clean_df['normalized_content']\n",
        "\n",
        "vec = TfidfVectorizer(max_features=300, min_df=10, max_df=0.75)\n",
        "hasil_tfidf = vec.fit_transform(X)\n",
        "\n",
        "y = ripiu_clean_df['label']\n",
        "\n",
        "X_train, X_test, y_train, y_test = train_test_split(\n",
        "    hasil_tfidf, y, test_size=0.2, random_state=1\n",
        ")"
      ],
      "metadata": {
        "id": "UfUWJMIhHzqd"
      },
      "execution_count": 10,
      "outputs": []
    },
    {
      "cell_type": "markdown",
      "source": [
        "# Build Model"
      ],
      "metadata": {
        "id": "Gz0JW9V6MKoP"
      }
    },
    {
      "cell_type": "markdown",
      "source": [
        "# Naive bayes"
      ],
      "metadata": {
        "id": "Bin7ztJVju5I"
      }
    },
    {
      "cell_type": "code",
      "source": [
        "from sklearn.naive_bayes import BernoulliNB\n",
        "from sklearn.metrics import accuracy_score\n",
        "\n",
        "nb_model = BernoulliNB()\n",
        "\n",
        "# trening modelnye\n",
        "nb_model.fit(X_train.toarray(), y_train)\n",
        "\n",
        "# prediksi hasil training dan testing\n",
        "pred_train = nb_model.predict(X_train.toarray())\n",
        "pred_test = nb_model.predict(X_test.toarray())\n",
        "\n",
        "# itung akurasinye\n",
        "train_acc = accuracy_score(y_train, pred_train)\n",
        "test_acc = accuracy_score(y_test, pred_test)\n",
        "\n",
        "# print hasil evaluasinya\n",
        "print(\"Akurasi training (NB):\", train_acc)\n",
        "print(\"Akurasi testing  (NB):\", test_acc)\n"
      ],
      "metadata": {
        "colab": {
          "base_uri": "https://localhost:8080/"
        },
        "id": "KXHuzzugMPtw",
        "outputId": "c4f1c84e-cee5-4ec7-9c3f-7d2ca20ac864"
      },
      "execution_count": 11,
      "outputs": [
        {
          "output_type": "stream",
          "name": "stdout",
          "text": [
            "Akurasi training (NB): 0.8868333333333334\n",
            "Akurasi testing  (NB): 0.8833333333333333\n"
          ]
        }
      ]
    },
    {
      "cell_type": "markdown",
      "source": [
        "# Random Forest"
      ],
      "metadata": {
        "id": "6sk0tX3CjzqG"
      }
    },
    {
      "cell_type": "code",
      "source": [
        "from sklearn.ensemble import RandomForestClassifier\n",
        "from sklearn.metrics import accuracy_score\n",
        "\n",
        "rf_model = RandomForestClassifier()\n",
        "\n",
        "# trening model\n",
        "rf_model.fit(X_train.toarray(), y_train)\n",
        "\n",
        "# prediksi hasil training dan testing\n",
        "rf_train_pred = rf_model.predict(X_train.toarray())\n",
        "rf_test_pred = rf_model.predict(X_test.toarray())\n",
        "\n",
        "# itung akurasinye\n",
        "rf_train_acc = accuracy_score(y_train, rf_train_pred)\n",
        "rf_test_acc = accuracy_score(y_test, rf_test_pred)\n",
        "\n",
        "# print hasil evaluasinye\n",
        "print(\"Akurasi Training (RF):\", rf_train_acc)\n",
        "print(\"Akurasi Testing  (RF):\", rf_test_acc)\n"
      ],
      "metadata": {
        "colab": {
          "base_uri": "https://localhost:8080/"
        },
        "id": "uPPShU5VMh2z",
        "outputId": "a0a58dc0-3ccf-4916-ad32-a8602ed9facd"
      },
      "execution_count": 12,
      "outputs": [
        {
          "output_type": "stream",
          "name": "stdout",
          "text": [
            "Akurasi Training (RF): 0.9988333333333334\n",
            "Akurasi Testing  (RF): 0.8706666666666667\n"
          ]
        }
      ]
    },
    {
      "cell_type": "markdown",
      "source": [
        "# Logistic Regression"
      ],
      "metadata": {
        "id": "aauzRe41j3-R"
      }
    },
    {
      "cell_type": "code",
      "source": [
        "from sklearn.linear_model import LogisticRegression\n",
        "from sklearn.metrics import accuracy_score\n",
        "\n",
        "logreg_model = LogisticRegression()\n",
        "\n",
        "# trening model\n",
        "logreg_model.fit(X_train.toarray(), y_train)\n",
        "\n",
        "# prediksi hasil training dan testing\n",
        "logreg_train_pred = logreg_model.predict(X_train.toarray())\n",
        "logreg_test_pred = logreg_model.predict(X_test.toarray())\n",
        "\n",
        "# itung akurasinye\n",
        "logreg_train_acc = accuracy_score(y_train, logreg_train_pred)\n",
        "logreg_test_acc = accuracy_score(y_test, logreg_test_pred)\n",
        "\n",
        "# print hasil akurasinye\n",
        "print(\"Akurasi Training (LogReg):\", logreg_train_acc)\n",
        "print(\"Akurasi Testing  (LogReg):\", logreg_test_acc)\n"
      ],
      "metadata": {
        "colab": {
          "base_uri": "https://localhost:8080/"
        },
        "id": "3BkFmDsHMkLf",
        "outputId": "90ca5a8e-a770-49bb-d6e1-db74282870b4"
      },
      "execution_count": 13,
      "outputs": [
        {
          "output_type": "stream",
          "name": "stdout",
          "text": [
            "Akurasi Training (LogReg): 0.9085\n",
            "Akurasi Testing  (LogReg): 0.8913333333333333\n"
          ]
        }
      ]
    },
    {
      "cell_type": "markdown",
      "source": [
        "# Decision Tree"
      ],
      "metadata": {
        "id": "8O0CMfqjj7O1"
      }
    },
    {
      "cell_type": "code",
      "source": [
        "from sklearn.tree import DecisionTreeClassifier\n",
        "from sklearn.metrics import accuracy_score\n",
        "\n",
        "dt_model = DecisionTreeClassifier()\n",
        "\n",
        "# trening model\n",
        "dt_model.fit(X_train.toarray(), y_train)\n",
        "\n",
        "# prediksi hasil training dan testing\n",
        "dt_pred_train = dt_model.predict(X_train.toarray())\n",
        "dt_pred_test = dt_model.predict(X_test.toarray())\n",
        "\n",
        "# itung akurasinye\n",
        "dt_train_score = accuracy_score(y_train, dt_pred_train)\n",
        "dt_test_score = accuracy_score(y_test, dt_pred_test)\n",
        "\n",
        "# print hasil evaluasinye\n",
        "print(\"Akurasi Train (Decision Tree):\", dt_train_score)\n",
        "print(\"Akurasi Test  (Decision Tree):\", dt_test_score)"
      ],
      "metadata": {
        "colab": {
          "base_uri": "https://localhost:8080/"
        },
        "id": "j4djn4kuMoir",
        "outputId": "11dd56a8-3bff-4883-aa09-ac170a0aba13"
      },
      "execution_count": 14,
      "outputs": [
        {
          "output_type": "stream",
          "name": "stdout",
          "text": [
            "Akurasi Train (Decision Tree): 0.9988333333333334\n",
            "Akurasi Test  (Decision Tree): 0.888\n"
          ]
        }
      ]
    },
    {
      "cell_type": "code",
      "source": [
        "import pandas as pd\n",
        "\n",
        "results_df = pd.DataFrame({\n",
        "    'Model': ['Naive Bayes', 'Random Forest', 'Logistic Regression', 'Decision Tree'],\n",
        "    'Accuracy Train': [train_acc, rf_train_acc, logreg_train_acc, dt_train_score],\n",
        "    'Accuracy Test': [test_acc, rf_test_acc, logreg_test_acc, dt_test_score]\n",
        "})\n",
        "\n",
        "accuracy_test_only = results_df[['Model', 'Accuracy Test']]\n",
        "print(accuracy_test_only)"
      ],
      "metadata": {
        "colab": {
          "base_uri": "https://localhost:8080/"
        },
        "id": "NhmVcb2WMsVE",
        "outputId": "6108f843-4158-4637-e45f-c0b85f238bee"
      },
      "execution_count": 15,
      "outputs": [
        {
          "output_type": "stream",
          "name": "stdout",
          "text": [
            "                 Model  Accuracy Test\n",
            "0          Naive Bayes       0.883333\n",
            "1        Random Forest       0.870667\n",
            "2  Logistic Regression       0.891333\n",
            "3        Decision Tree       0.888000\n"
          ]
        }
      ]
    },
    {
      "cell_type": "code",
      "source": [
        "accuracy_test_sorted = accuracy_test_only.sort_values(by='Accuracy Test', ascending=False)\n",
        "\n",
        "print(accuracy_test_sorted)\n"
      ],
      "metadata": {
        "colab": {
          "base_uri": "https://localhost:8080/"
        },
        "id": "1jyeKCxPMujX",
        "outputId": "5c754411-5b0e-465c-f8b2-541bfa4c8762"
      },
      "execution_count": 16,
      "outputs": [
        {
          "output_type": "stream",
          "name": "stdout",
          "text": [
            "                 Model  Accuracy Test\n",
            "2  Logistic Regression       0.891333\n",
            "3        Decision Tree       0.888000\n",
            "0          Naive Bayes       0.883333\n",
            "1        Random Forest       0.870667\n"
          ]
        }
      ]
    },
    {
      "cell_type": "markdown",
      "source": [
        "aku melakukan percobaan pada 4 model berbeda. setelah di lihat hasil yang paling tinggi di adalah menggunakan model Decision Tree."
      ],
      "metadata": {
        "id": "0VR-gNY5P9Nf"
      }
    }
  ]
}